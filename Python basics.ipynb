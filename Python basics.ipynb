{
 "cells": [
  {
   "cell_type": "code",
   "execution_count": 1,
   "id": "095341f0",
   "metadata": {},
   "outputs": [
    {
     "data": {
      "text/plain": [
       "123"
      ]
     },
     "execution_count": 1,
     "metadata": {},
     "output_type": "execute_result"
    }
   ],
   "source": [
    "123"
   ]
  },
  {
   "cell_type": "code",
   "execution_count": 2,
   "id": "c7de8854",
   "metadata": {},
   "outputs": [
    {
     "data": {
      "text/plain": [
       "int"
      ]
     },
     "execution_count": 2,
     "metadata": {},
     "output_type": "execute_result"
    }
   ],
   "source": [
    "type(123)"
   ]
  },
  {
   "cell_type": "code",
   "execution_count": 3,
   "id": "418be3f1",
   "metadata": {},
   "outputs": [
    {
     "data": {
      "text/plain": [
       "float"
      ]
     },
     "execution_count": 3,
     "metadata": {},
     "output_type": "execute_result"
    }
   ],
   "source": [
    "type(123.45)"
   ]
  },
  {
   "cell_type": "code",
   "execution_count": 4,
   "id": "77eeab7b",
   "metadata": {},
   "outputs": [
    {
     "data": {
      "text/plain": [
       "str"
      ]
     },
     "execution_count": 4,
     "metadata": {},
     "output_type": "execute_result"
    }
   ],
   "source": [
    "type('123.45')"
   ]
  },
  {
   "cell_type": "code",
   "execution_count": 5,
   "id": "947c7379",
   "metadata": {},
   "outputs": [
    {
     "name": "stdout",
     "output_type": "stream",
     "text": [
      "Hello, world!\n"
     ]
    }
   ],
   "source": [
    "print('Hello, world!')"
   ]
  },
  {
   "cell_type": "code",
   "execution_count": 6,
   "id": "f1c760c5",
   "metadata": {},
   "outputs": [
    {
     "name": "stdout",
     "output_type": "stream",
     "text": [
      "123 123.45 123.45\n",
      "<class 'int'> <class 'float'> <class 'str'>\n"
     ]
    }
   ],
   "source": [
    "x=123\n",
    "y=123.45\n",
    "z='123.45'\n",
    "print(x,y,z)\n",
    "print(type(x),type(y),type(z))"
   ]
  },
  {
   "cell_type": "code",
   "execution_count": 8,
   "id": "1409d11f",
   "metadata": {},
   "outputs": [
    {
     "name": "stdout",
     "output_type": "stream",
     "text": [
      "<class 'bool'>\n"
     ]
    }
   ],
   "source": [
    "sign_up=True\n",
    "print(type(sign_up))"
   ]
  },
  {
   "cell_type": "code",
   "execution_count": 13,
   "id": "887439ba",
   "metadata": {},
   "outputs": [
    {
     "name": "stdout",
     "output_type": "stream",
     "text": [
      "<class 'str'>\n",
      "The result of123+123.45=246.45\n"
     ]
    }
   ],
   "source": [
    "z=\"The result of\"+str(x)+\"+\"+str(y)+\"=\"+str(x+y)\n",
    "str(x+y)\n",
    "print(type(str(y)))\n",
    "print(z)"
   ]
  },
  {
   "cell_type": "code",
   "execution_count": 14,
   "id": "25338ebd",
   "metadata": {},
   "outputs": [
    {
     "name": "stdout",
     "output_type": "stream",
     "text": [
      "I am\n",
      "I am from CUC\n",
      " CUC\n"
     ]
    }
   ],
   "source": [
    "z='I am from CUC'\n",
    "print(z[0:4])\n",
    "print(z[0:14])\n",
    "print(z[-4:])"
   ]
  },
  {
   "cell_type": "code",
   "execution_count": 15,
   "id": "a146f935",
   "metadata": {},
   "outputs": [
    {
     "name": "stdout",
     "output_type": "stream",
     "text": [
      "13\n",
      "I am from CUC\n",
      "CUC\n",
      "CUC\n"
     ]
    }
   ],
   "source": [
    "print(len(z))\n",
    "print(z[0:13])\n",
    "print(z[-3:])\n",
    "print(z[10:13])"
   ]
  },
  {
   "cell_type": "code",
   "execution_count": 21,
   "id": "f66da10b",
   "metadata": {},
   "outputs": [
    {
     "name": "stdout",
     "output_type": "stream",
     "text": [
      "Hello, world!\n",
      "H\n",
      "llo\n",
      "llo, world!\n",
      "Hello, world!Hello, world!\n",
      "Hello, world! TEST\n"
     ]
    }
   ],
   "source": [
    "i = 'Hello, world!'\n",
    "print(i)        # 输出完整字符串\n",
    "print(i[0])        # 输出字符串中的第一个字符\n",
    "print(i[2:5])     # 输出字符串中第三个至第六个之间的字符串\n",
    "print(i[2:])      # 输出从第三个字符开始的字符串\n",
    "print(i * 2)    # 输出字符串两次\n",
    "print (i + \" TEST\")  # 输出连接的字符串"
   ]
  },
  {
   "cell_type": "code",
   "execution_count": 25,
   "id": "5a342afc",
   "metadata": {},
   "outputs": [
    {
     "name": "stdout",
     "output_type": "stream",
     "text": [
      "Princess Diana\n",
      "Princess Diana Princess Kate\n",
      "['Princess', 'Diana']\n"
     ]
    }
   ],
   "source": [
    "famous_person ='Princess Diana'\n",
    "print(famous_person)\n",
    "famous_person2 = famous_person.replace('Diana','Kate')\n",
    "print(famous_person, famous_person2)\n",
    "print(famous_person.split())"
   ]
  },
  {
   "cell_type": "code",
   "execution_count": 30,
   "id": "a84b375a",
   "metadata": {},
   "outputs": [
    {
     "name": "stdout",
     "output_type": "stream",
     "text": [
      "Prince Charles\n",
      "Prince William\n",
      "PRINCE WILLIAM\n",
      "-1\n",
      "7\n"
     ]
    }
   ],
   "source": [
    "name = 'Prince Charles'\n",
    "print(name)\n",
    "name = name.replace('Charles','William')\n",
    "print(name)\n",
    "name = name.upper()\n",
    "print(name)\n",
    "print(name.find('Charles'))\n",
    "print(name.find('WILLIAM'))"
   ]
  },
  {
   "cell_type": "code",
   "execution_count": 57,
   "id": "d04f9cb0",
   "metadata": {},
   "outputs": [
    {
     "name": "stdout",
     "output_type": "stream",
     "text": [
      "3.14\n"
     ]
    },
    {
     "data": {
      "text/plain": [
       "str"
      ]
     },
     "execution_count": 57,
     "metadata": {},
     "output_type": "execute_result"
    }
   ],
   "source": [
    "x = 3.14\n",
    "y = str(x)\n",
    "print(y)\n",
    "type(y)"
   ]
  },
  {
   "cell_type": "code",
   "execution_count": 56,
   "id": "345a13a4",
   "metadata": {},
   "outputs": [
    {
     "name": "stdout",
     "output_type": "stream",
     "text": [
      "3.14\n",
      "3\n",
      "<class 'float'>\n",
      "<class 'int'>\n"
     ]
    }
   ],
   "source": [
    "x = 3.14\n",
    "y =str(x)\n",
    "z1 = float(y)\n",
    "print(z1)\n",
    "type(z1)\n",
    "z2 = int(y[0:y.find('.')])\n",
    "print(z2)\n",
    "print(type(z1))\n",
    "print(type(z2))"
   ]
  },
  {
   "cell_type": "code",
   "execution_count": 31,
   "id": "b6d2bb0b",
   "metadata": {},
   "outputs": [
    {
     "name": "stdout",
     "output_type": "stream",
     "text": [
      "[1, 1.32, 2, 'CUC']\n",
      "(1, 1.32, 2, 'CUC')\n"
     ]
    }
   ],
   "source": [
    "list1=[1,1.32,2,'CUC']\n",
    "tuple1=(1,1.32,2,'CUC')\n",
    "print(list1)\n",
    "print(tuple1)"
   ]
  },
  {
   "cell_type": "code",
   "execution_count": 32,
   "id": "667ef3c3",
   "metadata": {},
   "outputs": [
    {
     "name": "stdout",
     "output_type": "stream",
     "text": [
      "[1, 1.5, 2, 3, 4, 5]\n"
     ]
    }
   ],
   "source": [
    "myList=[1,2,3,4,5,1.5]\n",
    "print(sorted(myList))"
   ]
  },
  {
   "cell_type": "code",
   "execution_count": 38,
   "id": "9450568f",
   "metadata": {},
   "outputs": [
    {
     "name": "stdout",
     "output_type": "stream",
     "text": [
      "[100, 95, 85, 60, 60.5, 70]\n",
      "60\n",
      "[100, 95, 85, 60, 60.5, 70, 50]\n",
      "[60, 60.5, 70]\n",
      "[100, 95, 85, 60, 60.5, 70]\n",
      "[100, 95, 85, 60, 60.5, 70, [1, 2, 3, 'I am from CUC.', True]]\n"
     ]
    }
   ],
   "source": [
    "score_list=[100,95,85,60,60.5,70]\n",
    "print(score_list)\n",
    "print(score_list[3])\n",
    "score_list.append(50)\n",
    "print(score_list)\n",
    "del(score_list[6])\n",
    "print(score_list[3:7])\n",
    "print(score_list)\n",
    "score_list.append([1,2,3,'I am from CUC.', True])\n",
    "print(score_list)"
   ]
  },
  {
   "cell_type": "code",
   "execution_count": 39,
   "id": "f95cfcfd",
   "metadata": {},
   "outputs": [
    {
     "name": "stdout",
     "output_type": "stream",
     "text": [
      "[100, 95, 85, 60, 60.5, 70, [1, 2, 3, 'I am from CUC.', True], [1, 2, 3, 'I am from CUC.', True]]\n"
     ]
    }
   ],
   "source": [
    "score_list.append([1,2,3,'I am from CUC.', True])\n",
    "print(score_list)"
   ]
  },
  {
   "cell_type": "code",
   "execution_count": 41,
   "id": "364d6f90",
   "metadata": {},
   "outputs": [
    {
     "name": "stdout",
     "output_type": "stream",
     "text": [
      "[100, 95, 85, 60, 60.5, 70, [1, 2, 3, 'I am from CUC.', True], [1, 2, 3, 'I am from CUC.', True], [11, 22, 33, [44, 55, 66]], [11, 22, 33, [44, 55, 66]]]\n",
      "[95, 85, 60, 60.5, 70, [1, 2, 3, 'I am from CUC.', True], [1, 2, 3, 'I am from CUC.', True], [11, 22, 33, [44, 55, 66]], [11, 22, 33, [44, 55, 66]]]\n"
     ]
    }
   ],
   "source": [
    "second_list=[11,22,33]\n",
    "second_list.append([44,55,66])\n",
    "score_list.append(second_list)\n",
    "print(score_list)\n",
    "score_list.remove(100)\n",
    "print(score_list)"
   ]
  },
  {
   "cell_type": "code",
   "execution_count": 42,
   "id": "44bf7c0e",
   "metadata": {},
   "outputs": [
    {
     "name": "stdout",
     "output_type": "stream",
     "text": [
      "{'peter': 80, 'david': 90, 'mary': 100}\n"
     ]
    }
   ],
   "source": [
    "dict1={'peter':80,'david':90,'mary':100}\n",
    "print(dict1)"
   ]
  },
  {
   "cell_type": "code",
   "execution_count": 43,
   "id": "04ccd28e",
   "metadata": {},
   "outputs": [
    {
     "name": "stdout",
     "output_type": "stream",
     "text": [
      "dict_keys(['peter', 'david', 'mary'])\n",
      "dict_values([80, 90, 100])\n"
     ]
    }
   ],
   "source": [
    "print(dict1.keys())\n",
    "print(dict1.values())"
   ]
  },
  {
   "cell_type": "code",
   "execution_count": 44,
   "id": "f6f81825",
   "metadata": {},
   "outputs": [
    {
     "name": "stdout",
     "output_type": "stream",
     "text": [
      "90\n",
      "[{'peter': 80, 'david': 90, 'mary': 100}]\n"
     ]
    }
   ],
   "source": [
    "print(dict1['david'])\n",
    "score_list=[]\n",
    "score_list.append(dict1)\n",
    "print(score_list)"
   ]
  },
  {
   "cell_type": "code",
   "execution_count": 46,
   "id": "2094c894",
   "metadata": {},
   "outputs": [
    {
     "name": "stdout",
     "output_type": "stream",
     "text": [
      "[{'peter': 50, 'david': 60, 'mary': 70}, {'peter': 60, 'david': 70, 'mary': 80}]\n"
     ]
    }
   ],
   "source": [
    "test1={'peter':50,'david':60,'mary':70}\n",
    "assignment1={'peter':60,'david':70,'mary':80}\n",
    "score_list=[]\n",
    "score_list.append(test1)\n",
    "score_list.append(assignment1)  \n",
    "print(score_list)"
   ]
  },
  {
   "cell_type": "code",
   "execution_count": 48,
   "id": "a3bed493",
   "metadata": {},
   "outputs": [
    {
     "name": "stdout",
     "output_type": "stream",
     "text": [
      "{1.0, (1, 3, 2), 'hello'}\n",
      "<class 'set'>\n"
     ]
    }
   ],
   "source": [
    "#sef of mixed datatypes\n",
    "my_set={1.0,'hello',(1,3,2)}\n",
    "print(my_set)\n",
    "print(type(my_set))"
   ]
  },
  {
   "cell_type": "code",
   "execution_count": 49,
   "id": "13a41a5d",
   "metadata": {},
   "outputs": [
    {
     "name": "stdout",
     "output_type": "stream",
     "text": [
      "{1, 2, 4}\n"
     ]
    }
   ],
   "source": [
    "#set cannot have duplicates\n",
    "my_set={1,2,2,4}\n",
    "print(my_set)"
   ]
  },
  {
   "cell_type": "code",
   "execution_count": 50,
   "id": "7e4b187b",
   "metadata": {},
   "outputs": [
    {
     "name": "stdout",
     "output_type": "stream",
     "text": [
      "1\n",
      "2\n",
      "3\n",
      "4\n",
      "5\n",
      "6\n",
      "7\n",
      "8\n",
      "9\n"
     ]
    }
   ],
   "source": [
    "i=1\n",
    "for i in range(1,10):\n",
    "    print(i)"
   ]
  },
  {
   "cell_type": "code",
   "execution_count": 58,
   "id": "8b3bbfa1",
   "metadata": {},
   "outputs": [
    {
     "name": "stdout",
     "output_type": "stream",
     "text": [
      "John makes 1950.\n",
      "Mike makes 3000.\n",
      "Mary makes 3250.\n",
      "Jane makes 4500.\n"
     ]
    }
   ],
   "source": [
    "hrs_list=[30,40,50,60]\n",
    "rate_list=[65,75,65,75]\n",
    "name_list=['John','Mike','Mary','Jane']\n",
    "fee_list=[]\n",
    "for number in range(len(name_list)):\n",
    "    hrs = hrs_list[number]\n",
    "    rate = rate_list[number]\n",
    "    fee = hrs*rate\n",
    "    fee_list.append(fee)\n",
    "    money_made = name_list[number]+' makes '+str(fee)+'.'\n",
    "    print(money_made)"
   ]
  },
  {
   "cell_type": "code",
   "execution_count": 59,
   "id": "1dcfb3a4",
   "metadata": {},
   "outputs": [
    {
     "name": "stdout",
     "output_type": "stream",
     "text": [
      "0 red\n",
      "1 green\n",
      "2 blue is printed.\n",
      "3 orange\n",
      "4 black\n",
      "This is done.\n"
     ]
    }
   ],
   "source": [
    "my_list = ['red','green','blue','orange','black']\n",
    "index = 0\n",
    "for i in my_list:\n",
    "    if i =='blue':\n",
    "        print(index,'blue is printed.')\n",
    "        index +=1\n",
    "    else:\n",
    "        print(index, my_list[index])\n",
    "        index +=1\n",
    "print('This is done.')"
   ]
  },
  {
   "cell_type": "code",
   "execution_count": 3,
   "id": "aaa986e6",
   "metadata": {},
   "outputs": [
    {
     "name": "stdout",
     "output_type": "stream",
     "text": [
      "   Product ID Product Name  Color  Units Sold\n",
      "0           1       Tshirt   blue         250\n",
      "1           2        Jeans  green         300\n",
      "2           3        Shirt    red         180\n",
      "3           4        Skirt  black         200\n"
     ]
    }
   ],
   "source": [
    "import pandas as pd\n",
    "df1 = pd.DataFrame({\n",
    "    # Define dataframe as a dictionary object\n",
    "    'Product ID':[1,2,3,4],\n",
    "    # Add product name and color here\n",
    "    'Product Name':['Tshirt','Jeans','Shirt','Skirt'],\n",
    "    'Color':['blue','green','red','black'],\n",
    "    'Units Sold':[250,300,180,200]\n",
    "})\n",
    "print(df1)"
   ]
  },
  {
   "cell_type": "code",
   "execution_count": null,
   "id": "e8748883",
   "metadata": {},
   "outputs": [],
   "source": []
  }
 ],
 "metadata": {
  "kernelspec": {
   "display_name": "Python 3",
   "language": "python",
   "name": "python3"
  },
  "language_info": {
   "codemirror_mode": {
    "name": "ipython",
    "version": 3
   },
   "file_extension": ".py",
   "mimetype": "text/x-python",
   "name": "python",
   "nbconvert_exporter": "python",
   "pygments_lexer": "ipython3",
   "version": "3.8.8"
  }
 },
 "nbformat": 4,
 "nbformat_minor": 5
}
